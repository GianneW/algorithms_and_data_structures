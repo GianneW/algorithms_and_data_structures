{
 "cells": [
  {
   "cell_type": "markdown",
   "metadata": {},
   "source": [
    "# Practice Interview\n",
    "\n",
    "## Objective\n",
    "\n",
    "_*The partner assignment aims to provide participants with the opportunity to practice coding in an interview context. You will analyze your partner's Assignment 1. Moreover, code reviews are common practice in a software development team. This assignment should give you a taste of the code review process.*_\n",
    "\n",
    "## Group Size\n",
    "\n",
    "Each group should have 2 people. You will be assigned a partner\n",
    "\n",
    "## Part 1:\n",
    "\n",
    "You and your partner must share each other's Assignment 1 submission."
   ]
  },
  {
   "cell_type": "markdown",
   "metadata": {},
   "source": [
    "\n",
    "## Part 2:\n",
    "\n",
    "Create a Jupyter Notebook, create 6 of the following headings, and complete the following for your partner's assignment 1:\n",
    "\n",
    "-   Paraphrase the problem in your own words.\n"
   ]
  },
  {
   "cell_type": "code",
   "execution_count": 1,
   "metadata": {},
   "outputs": [],
   "source": [
    "# Your answer here\n",
    "# my partner's github is https://github.com/cavengal/algorithms_and_data_structures\n",
    "# He did Question 2\n",
    "\n",
    "# In my own words, the question is:\n",
    "# We would like to return all the paths in a tree from the starting point (root) to the ends of the branches (leaves) in any order."
   ]
  },
  {
   "cell_type": "markdown",
   "metadata": {},
   "source": [
    "\n",
    "-   Create 1 new example that demonstrates you understand the problem. Trace/walkthrough 1 example that your partner made and explain it.\n"
   ]
  },
  {
   "cell_type": "code",
   "execution_count": 2,
   "metadata": {},
   "outputs": [],
   "source": [
    "# Your answer here\n",
    "# new example:\n",
    "#       1\n",
    "#      / \\\n",
    "#     2   3\n",
    "#    / \\   \\\n",
    "#  4   5   6\n",
    "# Input: root = [1, 2, 4, 5, 3, 6] \n",
    "# Output: [[1, 2, 4], [1, 2, 5], [1, 3, 6]]\n",
    "\n",
    "# example from my partner:\n",
    "# Input: root = [8, 3, 10, 1, 6, 9, 12] \n",
    "# Output: [[8, 3, 1], [8, 3, 6], [8, 10, 9], [8, 10, 12]]\n",
    "# This is a full binary tree, every node has 2 or 0 leave\n",
    "# So this is similar to the given example one in the question, root is 8\n",
    "# 8 has two children: left is 3 and right is 10\n",
    "# 3 has two children: left is 1, right is 6\n",
    "# 10 has two children: left is 9 and right is 12\n",
    "# We return all 4 paths"
   ]
  },
  {
   "cell_type": "markdown",
   "metadata": {},
   "source": [
    "\n",
    "-   Copy the solution your partner wrote. \n"
   ]
  },
  {
   "cell_type": "code",
   "execution_count": 3,
   "metadata": {},
   "outputs": [],
   "source": [
    "# Your answer here\n",
    "# credit from Carlos's github\n",
    "from typing import List\n",
    "\n",
    "# Definition for a binary tree node.\n",
    "class TreeNode(object):\n",
    "     def __init__(self, val = 0, left = None, right = None):\n",
    "         self.val = val\n",
    "         self.left = left\n",
    "         self.right = right\n",
    "# Defining the Main function (named pathfunction). It initializes the Depth-First Search and returns the result.  \n",
    "def path_function(root: TreeNode) -> List[List[int]]:\n",
    "    #Defining Helpe function for Recursive DFS: It tracks the current path and adds it to the result when a leaf node is reached.\n",
    "    def dfs(node, path, paths):\n",
    "        #Base Case\n",
    "        if not node:\n",
    "            return\n",
    "        # Add the current node to the path\n",
    "        path.append(node.val)\n",
    "        # If it's a leaf node, add the path to the result\n",
    "        if not node.left and not node.right:\n",
    "            paths.append(list(path))\n",
    "        else:\n",
    "            # Continue DFS on left and right child\n",
    "            dfs(node.left, path, paths)\n",
    "            dfs(node.right, path, paths)\n",
    "        # Backtrack to explore other paths\n",
    "        path.pop()\n",
    "\n",
    "    paths = []\n",
    "    dfs(root, [], paths)\n",
    "    return paths"
   ]
  },
  {
   "cell_type": "code",
   "execution_count": 4,
   "metadata": {},
   "outputs": [
    {
     "data": {
      "text/plain": [
       "[[1, 2, 4], [1, 2, 5], [1, 3, 6]]"
      ]
     },
     "execution_count": 4,
     "metadata": {},
     "output_type": "execute_result"
    }
   ],
   "source": [
    "root = TreeNode(1)\n",
    "root.left = TreeNode(2)\n",
    "root.right = TreeNode(3)\n",
    "root.left.left = TreeNode(4)\n",
    "root.left.right = TreeNode(5)\n",
    "root.right.right = TreeNode(6)\n",
    "path_function(root)"
   ]
  },
  {
   "cell_type": "code",
   "execution_count": 5,
   "metadata": {},
   "outputs": [
    {
     "data": {
      "text/plain": [
       "[]"
      ]
     },
     "execution_count": 5,
     "metadata": {},
     "output_type": "execute_result"
    }
   ],
   "source": [
    "path_function(root=None)"
   ]
  },
  {
   "cell_type": "markdown",
   "metadata": {},
   "source": [
    "\n",
    "-   Explain why their solution works in your own words.\n"
   ]
  },
  {
   "cell_type": "code",
   "execution_count": 6,
   "metadata": {},
   "outputs": [],
   "source": [
    "# Your answer here\n",
    "# He use recursive method to expand the path, until the node has no children, from the root to the end.\n",
    "# and the helper function dfs recursively explores each path from the root to the leaves.\n",
    "# Base Case: If the current node is None, it returns.\n",
    "# Path Tracking: Adds the current node’s value to the path.\n",
    "# Leaf Node Check: If the node is a leaf (no left and right children), it adds the current path to the results.\n",
    "# Recursive Calls: Continues the DFS on the left and right children.\n",
    "# Backtracking: Removes the current node’s value from the path to explore other paths.\n"
   ]
  },
  {
   "cell_type": "markdown",
   "metadata": {},
   "source": [
    "\n",
    "-   Explain the problem’s time and space complexity in your own words.\n"
   ]
  },
  {
   "cell_type": "code",
   "execution_count": 7,
   "metadata": {},
   "outputs": [],
   "source": [
    "# Your answer here\n",
    "# The time complexity:\n",
    "# The DFS function visits each node exactly once. In a binary tree, it's O(n)\n",
    "# At most there are n nodes, and append the path takes at most O(n) to the return list, whch is O(n^2)\n",
    "# Therefore, the the overall complexity is O(n^2)\n",
    "\n",
    "# Space Complexity\n",
    "# The maximum depth of the recursive call is the depth of the tree, so is O(n)\n",
    "# In the worst case, we need to store O(n) paths, each of which could be O(n) in length, total is O(n^2)\n",
    "# Therefore, the space complecity is O(n^2)"
   ]
  },
  {
   "cell_type": "markdown",
   "metadata": {},
   "source": [
    "\n",
    "-   Critique your partner's solution, including explanation, and if there is anything that should be adjusted.\n"
   ]
  },
  {
   "cell_type": "code",
   "execution_count": 8,
   "metadata": {},
   "outputs": [],
   "source": [
    "# Your answer here\n",
    "# The provided solution is generally efficient and correctly solves the problem.\n",
    "# The use of a helper function with clear base case, path tracking, and backtracking logic makes the code easy to understand and maintain.\n",
    "\n",
    "#Adjustments:\n",
    "# I would like to handle the case where the root is None at the beginning of the path_function.\n",
    "\n",
    "def path_function(root: TreeNode) -> List[List[int]]:\n",
    "    def dfs(node, path, paths):\n",
    "        if not node:\n",
    "            return\n",
    "        path.append(node.val)\n",
    "        if not node.left and not node.right:\n",
    "            paths.append(path[:]) \n",
    "        else:\n",
    "            dfs(node.left, path, paths)\n",
    "            dfs(node.right, path, paths)\n",
    "        path.pop()  \n",
    "\n",
    "    if not root: # I only add the edge case here\n",
    "        return []\n",
    "\n",
    "    paths = []\n",
    "    dfs(root, [], paths)\n",
    "    return paths"
   ]
  },
  {
   "cell_type": "code",
   "execution_count": 9,
   "metadata": {},
   "outputs": [
    {
     "data": {
      "text/plain": [
       "[[1, 2, 4], [1, 2, 5], [1, 3, 6]]"
      ]
     },
     "execution_count": 9,
     "metadata": {},
     "output_type": "execute_result"
    }
   ],
   "source": [
    "root = TreeNode(1)\n",
    "root.left = TreeNode(2)\n",
    "root.right = TreeNode(3)\n",
    "root.left.left = TreeNode(4)\n",
    "root.left.right = TreeNode(5)\n",
    "root.right.right = TreeNode(6)\n",
    "path_function(root)"
   ]
  },
  {
   "cell_type": "code",
   "execution_count": 10,
   "metadata": {},
   "outputs": [
    {
     "data": {
      "text/plain": [
       "[]"
      ]
     },
     "execution_count": 10,
     "metadata": {},
     "output_type": "execute_result"
    }
   ],
   "source": [
    "path_function(root=None)"
   ]
  },
  {
   "cell_type": "markdown",
   "metadata": {},
   "source": [
    "\n",
    "## Part 3:\n",
    "\n",
    "Please write a 200 word reflection documenting your process from assignment 1, and your presentation and review experience with your partner at the bottom of the Jupyter Notebook under a new heading \"Reflection.\" Again, export this Notebook as pdf.\n"
   ]
  },
  {
   "cell_type": "markdown",
   "metadata": {},
   "source": [
    "### Reflection"
   ]
  },
  {
   "cell_type": "code",
   "execution_count": 11,
   "metadata": {},
   "outputs": [],
   "source": [
    "# Your answer here\n",
    "# Plz see below"
   ]
  },
  {
   "cell_type": "markdown",
   "metadata": {},
   "source": [
    "My process began with Question 3 on finding missing numbers in a range. Initially, I provided a straightforward Python solution only using List and explained the time complexity. \\\n",
    "Sorting the list first was considered to improve the time complexity, but it did not contribute to saving time due to the inherent complexities involved in sorting and subsequent operations. \\\n",
    "Upon further discussion and analysis, I realized that we could improve it by leveraging sets for faster membership checks. Using a set instead of a list reduces the time complexity.\n",
    "\n",
    "Next, I review my partner's solution of Question 2: solving the tree paths question. I realize that it's important that we could rephase CS questions concisly with clear explanation. \\\n",
    "I then reviewed his provided code solution, ensuring it worked correctly and discussed its time and space complexity in detail. I critiqued the solution, suggested handling edge cases at the begining, and made slight improvements to ensure robustness.\n",
    "\n",
    "Throughout this process, I realized the importance of optimizing both time and space complexity, ensuring that explanations and solutions were accessible and efficient. Reflecting on and reviewing both problems highlighted the value of iterative improvement, clear communication, and thorough analysis in effective problem-solving."
   ]
  },
  {
   "cell_type": "markdown",
   "metadata": {},
   "source": [
    "\n",
    "## Evaluation Criteria\n",
    "\n",
    "We are looking for the similar points as Assignment 1\n",
    "\n",
    "-   Problem is accurately stated\n",
    "\n",
    "-   New example is correct and easily understandable\n",
    "\n",
    "-   Correctness, time, and space complexity of the coding solution\n",
    "\n",
    "-   Clarity in explaining why the solution works, its time and space complexity\n",
    "\n",
    "-   Quality of critique of your partner's assignment, if necessary\n"
   ]
  },
  {
   "cell_type": "markdown",
   "metadata": {},
   "source": [
    "## Submission Information\n",
    "\n",
    "🚨 **Please review our [Assignment Submission Guide](https://github.com/UofT-DSI/onboarding/blob/main/onboarding_documents/submissions.md)** 🚨 for detailed instructions on how to format, branch, and submit your work. Following these guidelines is crucial for your submissions to be evaluated correctly.\n",
    "\n",
    "### Submission Parameters:\n",
    "* Submission Due Date: `HH:MM AM/PM - DD/MM/YYYY`\n",
    "* The branch name for your repo should be: `assignment-2`\n",
    "* What to submit for this assignment:\n",
    "    * This Jupyter Notebook (assignment_2.ipynb) should be populated and should be the only change in your pull request.\n",
    "* What the pull request link should look like for this assignment: `https://github.com/<your_github_username>/algorithms_and_data_structures/pull/<pr_id>`\n",
    "    * Open a private window in your browser. Copy and paste the link to your pull request into the address bar. Make sure you can see your pull request properly. This helps the technical facilitator and learning support staff review your submission easily.\n",
    "\n",
    "Checklist:\n",
    "- [ ] Created a branch with the correct naming convention.\n",
    "- [ ] Ensured that the repository is public.\n",
    "- [ ] Reviewed the PR description guidelines and adhered to them.\n",
    "- [ ] Verify that the link is accessible in a private browser window.\n",
    "\n",
    "If you encounter any difficulties or have questions, please don't hesitate to reach out to our team via our Slack at `#cohort-3-help`. Our Technical Facilitators and Learning Support staff are here to help you navigate any challenges.\n"
   ]
  }
 ],
 "metadata": {
  "kernelspec": {
   "display_name": "dsi_participant",
   "language": "python",
   "name": "python3"
  },
  "language_info": {
   "codemirror_mode": {
    "name": "ipython",
    "version": 3
   },
   "file_extension": ".py",
   "mimetype": "text/x-python",
   "name": "python",
   "nbconvert_exporter": "python",
   "pygments_lexer": "ipython3",
   "version": "3.9.6"
  }
 },
 "nbformat": 4,
 "nbformat_minor": 2
}
